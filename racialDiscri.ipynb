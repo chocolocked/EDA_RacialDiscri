{
 "cells": [
  {
   "cell_type": "markdown",
   "metadata": {},
   "source": [
    "# Examining Racial Discrimination in the US Job Market\n",
    "\n",
    "### Background\n",
    "Racial discrimination continues to be pervasive in cultures throughout the world. Researchers examined the level of racial discrimination in the United States labor market by randomly assigning identical résumés to black-sounding or white-sounding names and observing the impact on requests for interviews from employers.\n",
    "\n",
    "### Data\n",
    "In the dataset provided, each row represents a resume. The 'race' column has two values, 'b' and 'w', indicating black-sounding and white-sounding. The column 'call' has two values, 1 and 0, indicating whether the resume received a call from employers or not.\n",
    "\n",
    "Note that the 'b' and 'w' values in race are assigned randomly to the resumes when presented to the employer."
   ]
  },
  {
   "cell_type": "markdown",
   "metadata": {},
   "source": [
    "### Exercises\n",
    "You will perform a statistical analysis to establish whether race has a significant impact on the rate of callbacks for resumes.\n",
    "\n",
    "Answer the following questions **in this notebook below and submit to your Github account**. \n",
    "\n",
    "   1. What test is appropriate for this problem? Does CLT apply?\n",
    "   2. What are the null and alternate hypotheses?\n",
    "   3. Compute margin of error, confidence interval, and p-value.\n",
    "   4. Write a story describing the statistical significance in the context or the original problem.\n",
    "   5. Does your analysis mean that race/name is the most important factor in callback success? Why or why not? If not, how would you amend your analysis?\n",
    "\n",
    "You can include written notes in notebook cells using Markdown: \n",
    "   - In the control panel at the top, choose Cell > Cell Type > Markdown\n",
    "   - Markdown syntax: http://nestacms.com/docs/creating-content/markdown-cheat-sheet\n",
    "\n",
    "\n",
    "#### Resources\n",
    "+ Experiment information and data source: http://www.povertyactionlab.org/evaluation/discrimination-job-market-united-states\n",
    "+ Scipy statistical methods: http://docs.scipy.org/doc/scipy/reference/stats.html \n",
    "+ Markdown syntax: http://nestacms.com/docs/creating-content/markdown-cheat-sheet\n",
    "****"
   ]
  },
  {
   "cell_type": "code",
   "execution_count": 1,
   "metadata": {
    "collapsed": true
   },
   "outputs": [],
   "source": [
    "import pandas as pd\n",
    "import numpy as np\n",
    "from scipy import stats"
   ]
  },
  {
   "cell_type": "code",
   "execution_count": 2,
   "metadata": {},
   "outputs": [],
   "source": [
    "data = pd.io.stata.read_stata('data/us_job_market_discrimination.dta')"
   ]
  },
  {
   "cell_type": "code",
   "execution_count": 8,
   "metadata": {},
   "outputs": [
    {
     "data": {
      "text/plain": [
       "157.0"
      ]
     },
     "execution_count": 8,
     "metadata": {},
     "output_type": "execute_result"
    }
   ],
   "source": [
    "# number of callbacks for black-sounding names\n",
    "sum(data[data.race=='b'].call)"
   ]
  },
  {
   "cell_type": "code",
   "execution_count": 6,
   "metadata": {},
   "outputs": [
    {
     "name": "stdout",
     "output_type": "stream",
     "text": [
      "  id ad  education  ofjobs  yearsexp  honors  volunteer  military  empholes  \\\n",
      "0  b  1          4       2         6       0          0         0         1   \n",
      "1  b  1          3       3         6       0          1         1         0   \n",
      "2  b  1          4       1         6       0          0         0         0   \n",
      "3  b  1          3       4         6       0          1         0         1   \n",
      "4  b  1          3       3        22       0          0         0         0   \n",
      "\n",
      "   occupspecific    ...      compreq  orgreq  manuf  transcom  bankreal trade  \\\n",
      "0             17    ...          1.0     0.0    1.0       0.0       0.0   0.0   \n",
      "1            316    ...          1.0     0.0    1.0       0.0       0.0   0.0   \n",
      "2             19    ...          1.0     0.0    1.0       0.0       0.0   0.0   \n",
      "3            313    ...          1.0     0.0    1.0       0.0       0.0   0.0   \n",
      "4            313    ...          1.0     1.0    0.0       0.0       0.0   0.0   \n",
      "\n",
      "  busservice othservice  missind  ownership  \n",
      "0        0.0        0.0      0.0             \n",
      "1        0.0        0.0      0.0             \n",
      "2        0.0        0.0      0.0             \n",
      "3        0.0        0.0      0.0             \n",
      "4        0.0        1.0      0.0  Nonprofit  \n",
      "\n",
      "[5 rows x 65 columns]\n",
      "(4870, 65)\n"
     ]
    }
   ],
   "source": [
    "print(data.head())\n",
    "print(data.shape)"
   ]
  },
  {
   "cell_type": "markdown",
   "metadata": {},
   "source": [
    "Q1:\n",
    "\n",
    "We could use A/B test. The central limit theorem (CLT) is a statistical theory that states that given a sufficiently large sample size from a population with a finite level of variance, the mean of all samples from the same population will be approximately equal to the mean of the population. Furthermore, all of the samples will follow an approximate normal distribution pattern, with all variances being approximately equal to the variance of the population divided by each sample's size.\n",
    "\n",
    "In our data, there are 4870 records in total (a large sample), and therefore we could say that CLT applies."
   ]
  },
  {
   "cell_type": "code",
   "execution_count": 65,
   "metadata": {},
   "outputs": [
    {
     "name": "stdout",
     "output_type": "stream",
     "text": [
      "0.06447638603696099\n",
      "0.09650924024640657\n"
     ]
    }
   ],
   "source": [
    "#separate the dataset and see the fraction for each first\n",
    "df = data[['race','call']]\n",
    "df_b = df[df.race=='b']['call']\n",
    "df_w = df[df.race=='w']['call']\n",
    "frac_b = sum(df_b)/len(df_b)\n",
    "frac_w = sum(df_w)/len(df_w)\n",
    "print(frac_b)\n",
    "print(frac_w)"
   ]
  },
  {
   "cell_type": "markdown",
   "metadata": {},
   "source": [
    "Q2:\n",
    "\n",
    "* Null hypothesis: race (b/w) has no impact on the call-back rate (the difference is purely due to chance)\n",
    "* Alternative hypothesis: race has impact on the call-back rate "
   ]
  },
  {
   "cell_type": "code",
   "execution_count": 72,
   "metadata": {},
   "outputs": [],
   "source": [
    "#Q3\n",
    "#first we define a fraction difference function \n",
    "def frac_diff(data1, data2):\n",
    "    \"\"\"Compute the difference in fraction of two data frames for column 'col'\"\"\"\n",
    "    frac_diff12 = sum(data1) / len(data1) - sum(data2) / len(data2) \n",
    "    return frac_diff12"
   ]
  },
  {
   "cell_type": "code",
   "execution_count": 73,
   "metadata": {},
   "outputs": [],
   "source": [
    "#define functions to draw permutation replicates\n",
    "def permutation_sample(data1, data2):\n",
    "    \"\"\"Generate a permutation sample from two data sets.\"\"\"\n",
    "    data = np.concatenate((data1.values,data2.values)) \n",
    "    permuted_data = np.random.permutation(data)\n",
    "\n",
    "    perm_sample_1 = permuted_data[:len(data1)]\n",
    "    perm_sample_2 = permuted_data[len(data1):]\n",
    "\n",
    "    return perm_sample_1, perm_sample_2"
   ]
  },
  {
   "cell_type": "code",
   "execution_count": 74,
   "metadata": {
    "collapsed": true
   },
   "outputs": [],
   "source": [
    "def draw_perm_reps(data_1, data_2, func, size=1):\n",
    "    \"\"\"Generate multiple permutation replicates.\"\"\"\n",
    "\n",
    "    perm_replicates = np.empty(size)\n",
    "\n",
    "    for i in range(size):\n",
    "        perm_sample_1, perm_sample_2 = permutation_sample(data_1,data_2)\n",
    "\n",
    "        perm_replicates[i] = func(perm_sample_1,perm_sample_2)\n",
    "\n",
    "    return perm_replicates"
   ]
  },
  {
   "cell_type": "code",
   "execution_count": 80,
   "metadata": {},
   "outputs": [
    {
     "name": "stdout",
     "output_type": "stream",
     "text": [
      "-0.032032854209445585\n"
     ]
    }
   ],
   "source": [
    "#point estimate\n",
    "obs_frac_diff = frac_diff(df_b, df_w)\n",
    "print(obs_frac_diff)"
   ]
  },
  {
   "cell_type": "code",
   "execution_count": 81,
   "metadata": {},
   "outputs": [
    {
     "name": "stdout",
     "output_type": "stream",
     "text": [
      "('p-value =', '0.000000')\n"
     ]
    }
   ],
   "source": [
    "#actual testing part\n",
    "perm_replicates = draw_perm_reps(df_b, df_w, frac_diff, 10000)\n",
    "\n",
    "# Compute and print p-value: p\n",
    "p = np.sum(perm_replicates <= obs_frac_diff) / len(perm_replicates)\n",
    "print('p-value =', format(p, '.6f'))"
   ]
  },
  {
   "cell_type": "code",
   "execution_count": 85,
   "metadata": {},
   "outputs": [
    {
     "name": "stdout",
     "output_type": "stream",
     "text": [
      "('z_score:', -4.114705356750735, 'p-value:', 3.8767429116085706e-05)\n"
     ]
    }
   ],
   "source": [
    "#double-check using statsmodel z-test as well\n",
    "from statsmodels.stats.weightstats import ztest\n",
    "z_score, pValue = ztest(x1= df_b, x2=df_w, value=0, alternative='two-sided', usevar='pooled', ddof=1)\n",
    "print (\"z_score:\", z_score, 'p-value:',pValue)"
   ]
  },
  {
   "cell_type": "markdown",
   "metadata": {},
   "source": [
    "Q4:\n",
    "\n",
    "The p-value of 0.000000 from bootstrap permutation test and of 3.8767429116085706e-05 from z-test certainly rejects the null hypothesis of race has no impact on the call back rate. In other words, there is very unlikely that difference in call-back rate in two races is due to chance."
   ]
  },
  {
   "cell_type": "markdown",
   "metadata": {},
   "source": [
    "Q5:\n",
    "\n",
    "My analysis only indicates that race has a statistically significant impact on the call-back rate. As I haven't investigated other information in the data, such as columns of 'education', 'ofjobs', 'yearsexp', 'honors', 'volunteer' etc., it's hard to conclude that race is the 'most important' factor in the call-back success. In order to make inferences on which factor is the most important, I would need to examine other factors(columns) as well. Possible tests that could be performed include: Chi-Square test, logistic regression to evaluate other factor's importance."
   ]
  },
  {
   "cell_type": "code",
   "execution_count": null,
   "metadata": {
    "collapsed": true
   },
   "outputs": [],
   "source": []
  }
 ],
 "metadata": {
  "kernelspec": {
   "display_name": "Python 2",
   "language": "python",
   "name": "python2"
  },
  "language_info": {
   "codemirror_mode": {
    "name": "ipython",
    "version": 2
   },
   "file_extension": ".py",
   "mimetype": "text/x-python",
   "name": "python",
   "nbconvert_exporter": "python",
   "pygments_lexer": "ipython2",
   "version": "2.7.14"
  }
 },
 "nbformat": 4,
 "nbformat_minor": 1
}
